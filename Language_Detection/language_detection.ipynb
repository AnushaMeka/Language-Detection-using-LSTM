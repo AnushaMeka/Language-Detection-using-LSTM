{
 "cells": [
  {
   "cell_type": "code",
   "execution_count": 25,
   "metadata": {},
   "outputs": [
    {
     "name": "stderr",
     "output_type": "stream",
     "text": [
      "/anaconda3/lib/python3.6/site-packages/h5py/__init__.py:36: FutureWarning: Conversion of the second argument of issubdtype from `float` to `np.floating` is deprecated. In future, it will be treated as `np.float64 == np.dtype(float).type`.\n",
      "  from ._conv import register_converters as _register_converters\n",
      "Using TensorFlow backend.\n",
      "/anaconda3/lib/python3.6/site-packages/sklearn/cross_validation.py:41: DeprecationWarning: This module was deprecated in version 0.18 in favor of the model_selection module into which all the refactored classes and functions are moved. Also note that the interface of the new CV iterators are different from that of this module. This module will be removed in 0.20.\n",
      "  \"This module will be removed in 0.20.\", DeprecationWarning)\n"
     ]
    }
   ],
   "source": [
    "from __future__ import print_function\n",
    "from keras.models import Sequential\n",
    "from keras.layers import Dense, Activation\n",
    "from keras.layers import LSTM\n",
    "from keras.optimizers import RMSprop\n",
    "from keras.utils.data_utils import get_file\n",
    "import numpy as np\n",
    "import random\n",
    "import sys\n",
    "from sklearn.cross_validation import train_test_split"
   ]
  },
  {
   "cell_type": "code",
   "execution_count": 26,
   "metadata": {},
   "outputs": [
    {
     "name": "stdout",
     "output_type": "stream",
     "text": [
      "corpus length: 10746\n",
      "corpus length: 12009\n"
     ]
    }
   ],
   "source": [
    "with open('/Users/anusha/Desktop/Language_Detection/data/eng.txt','rt') as f:\n",
    "    text1 = f.read().lower()\n",
    "with open('/Users/anusha/Desktop/Language_Detection/data/frn.txt','rt') as f:\n",
    "    text2 = f.read().lower()\n",
    "print('corpus length:', len(text1))\n",
    "print('corpus length:', len(text2))"
   ]
  },
  {
   "cell_type": "code",
   "execution_count": 45,
   "metadata": {},
   "outputs": [],
   "source": [
    "y1 = np.tile(0,len(text1))\n",
    "y2 = np.tile(1,len(text2))\n",
    "x_train_eng, x_test_eng, y_train_eng, y_test_eng = train_test_split(text1, y1, test_size=0.2)\n",
    "x_train_frn, x_test_frn, y_train_frn, y_test_frn = train_test_split(text2, y2, test_size=0.2)"
   ]
  },
  {
   "cell_type": "code",
   "execution_count": 46,
   "metadata": {},
   "outputs": [
    {
     "name": "stdout",
     "output_type": "stream",
     "text": [
      "8596 2150\n"
     ]
    }
   ],
   "source": [
    "print(len(x_train_eng), len(x_test_eng))"
   ]
  },
  {
   "cell_type": "code",
   "execution_count": 201,
   "metadata": {},
   "outputs": [
    {
     "name": "stdout",
     "output_type": "stream",
     "text": [
      "total chars: 44\n",
      "nb sequences: 8556\n",
      "nb sequences: 107\n",
      "Vectorization...\n",
      "Build model...\n"
     ]
    }
   ],
   "source": [
    "chars_eng = sorted(list(set(text1)))\n",
    "chars_fr = sorted(list(set(text2)))\n",
    "chars = sorted(list(set(chars_eng + chars_fr)))\n",
    "print('total chars:', len(chars))\n",
    "char_indices = dict((c, i) for i, c in enumerate(chars))\n",
    "indices_char = dict((i, c) for i, c in enumerate(chars))\n",
    "\n",
    "maxlen= 40\n",
    "step = 1\n",
    "sentences_eng_tr = []\n",
    "next_chars_eng_tr = []\n",
    "for i in range(0, int(0.8*len(text1)) - maxlen, step):\n",
    "    sentences_eng_tr.append(text1[i: i + maxlen])\n",
    "    next_chars_eng_tr.append(text1[i + maxlen])\n",
    "\n",
    "print('nb sequences:', len(sentences_eng_tr))\n",
    "\n",
    "##test set prepare\n",
    "sentences_eng_test = []\n",
    "string_eng_test= []\n",
    "step_test=20\n",
    "for i in range(int(0.8*len(text1)) - maxlen,len(text1) - maxlen-step_test, step_test):\n",
    "    sentences_eng_test.append(text1[i: i + maxlen])\n",
    "    string_eng_test.append(text1[i+maxlen:i+maxlen+5])\n",
    "print('nb sequences:', len(sentences_eng_test))\n",
    "\n",
    "print('Vectorization...')\n",
    "X_eng = np.zeros(shape=(len(sentences_eng_tr), maxlen, len(chars)), dtype=np.bool)\n",
    "y_eng = np.zeros(shape=(len(sentences_eng_tr), len(chars)), dtype=np.bool)\n",
    "\n",
    "for i, sentence in enumerate(sentences_eng_tr):\n",
    "    for t, char in enumerate(sentence):\n",
    "        X_eng[i, t, char_indices[char]] = 1\n",
    "    y_eng[i, char_indices[next_chars_eng_tr[i]]] = 1\n",
    "\n",
    "\n",
    "# build the model: a single LSTM\n",
    "print('Build model...')\n",
    "model = Sequential()\n",
    "model.add(LSTM(128, input_shape=(maxlen, len(chars))))\n",
    "model.add(Dense(len(chars)))\n",
    "model.add(Activation('softmax'))\n",
    "\n",
    "optimizer = RMSprop(lr=0.008)\n",
    "model.compile(loss='categorical_crossentropy', optimizer=optimizer, metrics = ['accuracy'])"
   ]
  },
  {
   "cell_type": "code",
   "execution_count": 257,
   "metadata": {},
   "outputs": [
    {
     "name": "stdout",
     "output_type": "stream",
     "text": [
      "nb sequences: 9567\n",
      "nb sequences: 121\n",
      "Vectorization...\n",
      "Build model...\n"
     ]
    }
   ],
   "source": [
    "#generating french model\n",
    "\n",
    "\n",
    "\n",
    "##training set prepare\n",
    "maxlen= 40\n",
    "step = 1\n",
    "sentences_fr_tr = []\n",
    "next_chars_fr_tr = []\n",
    "for i in range(0, int(0.8*len(text2)) - maxlen, step):\n",
    "    sentences_fr_tr.append(text2[i: i + maxlen])\n",
    "    next_chars_fr_tr.append(text2[i + maxlen])\n",
    "\n",
    "print('nb sequences:', len(sentences_fr_tr))\n",
    "##test set prepare\n",
    "sentences_fr_test = []\n",
    "string_fr_test= []\n",
    "step_test=20\n",
    "for i in range(int(0.8*len(text2)) - maxlen,len(text2) - maxlen, step_test):\n",
    "    sentences_fr_test.append(text2[i: i + maxlen])\n",
    "    string_fr_test.append(text2[i+maxlen:i+maxlen+5])\n",
    "print('nb sequences:', len(sentences_fr_test))\n",
    "\n",
    "print('Vectorization...')\n",
    "X_fr = np.zeros((len(sentences_fr_tr), maxlen, len(chars)), dtype=np.bool)\n",
    "y_fr = np.zeros((len(sentences_fr_tr), len(chars)), dtype=np.bool)\n",
    "for i, sentence in enumerate(sentences_fr_tr):\n",
    "    for t, char in enumerate(sentence):\n",
    "        X_fr[i, t, char_indices[char]] = 1\n",
    "    y_fr[i, char_indices[next_chars_fr_tr[i]]] = 1\n",
    "\n",
    "\n",
    "# build the model: a single LSTM\n",
    "print('Build model...')\n",
    "model2 = Sequential()\n",
    "model2.add(LSTM(128, input_shape=(maxlen, len(chars))))\n",
    "model2.add(Dense(len(chars)))\n",
    "model2.add(Activation('softmax'))\n",
    "\n",
    "optimizer = RMSprop(lr=0.01)\n",
    "model2.compile(loss='categorical_crossentropy', optimizer=optimizer, metrics=[\"accuracy\"])"
   ]
  },
  {
   "cell_type": "code",
   "execution_count": 258,
   "metadata": {},
   "outputs": [],
   "source": [
    "import csv\n",
    "sentences_fr_test =sentences_fr_test[:100]\n",
    "string_fr_test=string_fr_test[:100]\n",
    "sentences_eng_test =sentences_eng_test[:100]\n",
    "string_eng_test=string_eng_test[:100]\n",
    "\n",
    "sentences_test = sentences_fr_test + sentences_eng_test\n",
    "string_test = string_fr_test + string_eng_test\n",
    "\n",
    "with open(\"test_50.csv\", 'wt') as f:\n",
    "    w = csv.writer(f, dialect='excel')\n",
    "    #for row in string_test:\n",
    "    w.writerow(string_test)"
   ]
  },
  {
   "cell_type": "code",
   "execution_count": 259,
   "metadata": {},
   "outputs": [],
   "source": [
    "def vectorize(sentence, chars , char_indices ):\n",
    "    X = np.zeros((1, maxlen, len(chars)), dtype=np.bool)\n",
    "    for t, char in enumerate(sentence):\n",
    "        X[0, t, char_indices[char]] = 1\n",
    "    return X"
   ]
  },
  {
   "cell_type": "code",
   "execution_count": 260,
   "metadata": {},
   "outputs": [],
   "source": [
    "def get_scores_for_model(seed,next_string, model,chars,char_indices):\n",
    "    sentence =seed\n",
    "    x = np.zeros((5, maxlen, len(chars)))\n",
    "\n",
    "    x[0] = vectorize(seed,chars,char_indices)\n",
    "    x[1] = vectorize(seed[1:]+next_string[:1],chars,char_indices)\n",
    "    x[2] = vectorize(seed[2:]+next_string[:2],chars,char_indices)\n",
    "    x[3] = vectorize(seed[3:]+next_string[:3],chars,char_indices)\n",
    "    x[4] = vectorize(seed[4:]+next_string[:4],chars,char_indices)\n",
    "    probs_term = []\n",
    "    for i in range(5):\n",
    "        preds = model.predict(x[i].reshape(1,40,44), verbose=0)[0]\n",
    "        preds = np.log(preds)\n",
    "        probs_term.append(preds[char_indices[next_string[i]]])\n",
    "\n",
    "    return probs_term"
   ]
  },
  {
   "cell_type": "code",
   "execution_count": 203,
   "metadata": {},
   "outputs": [
    {
     "name": "stdout",
     "output_type": "stream",
     "text": [
      "\n",
      "Iteration 1\n",
      "Epoch 1/20\n",
      "8556/8556 [==============================] - 5s 616us/step - loss: 2.8295 - acc: 0.1999\n",
      "Epoch 2/20\n",
      "8556/8556 [==============================] - 4s 436us/step - loss: 2.2616 - acc: 0.3553\n",
      "Epoch 3/20\n",
      "8556/8556 [==============================] - 4s 440us/step - loss: 1.9802 - acc: 0.4331\n",
      "Epoch 4/20\n",
      "8556/8556 [==============================] - 4s 439us/step - loss: 1.7827 - acc: 0.4870\n",
      "Epoch 5/20\n",
      "8556/8556 [==============================] - 4s 441us/step - loss: 1.6062 - acc: 0.5337\n",
      "Epoch 6/20\n",
      "8556/8556 [==============================] - 4s 458us/step - loss: 1.4573 - acc: 0.5670\n",
      "Epoch 7/20\n",
      "8556/8556 [==============================] - 4s 467us/step - loss: 1.3239 - acc: 0.6064\n",
      "Epoch 8/20\n",
      "8556/8556 [==============================] - 4s 446us/step - loss: 1.2132 - acc: 0.6403\n",
      "Epoch 9/20\n",
      "8556/8556 [==============================] - 4s 451us/step - loss: 1.1065 - acc: 0.6683\n",
      "Epoch 10/20\n",
      "8556/8556 [==============================] - 4s 449us/step - loss: 1.0197 - acc: 0.6905\n",
      "Epoch 11/20\n",
      "8556/8556 [==============================] - 4s 468us/step - loss: 0.9269 - acc: 0.7154\n",
      "Epoch 12/20\n",
      "8556/8556 [==============================] - 4s 452us/step - loss: 0.8452 - acc: 0.7404\n",
      "Epoch 13/20\n",
      "8556/8556 [==============================] - 4s 454us/step - loss: 0.7637 - acc: 0.7618\n",
      "Epoch 14/20\n",
      "8556/8556 [==============================] - 4s 456us/step - loss: 0.6988 - acc: 0.7840\n",
      "Epoch 15/20\n",
      "8556/8556 [==============================] - 4s 453us/step - loss: 0.6308 - acc: 0.8059\n",
      "Epoch 16/20\n",
      "8556/8556 [==============================] - 4s 459us/step - loss: 0.5794 - acc: 0.8227\n",
      "Epoch 17/20\n",
      "8556/8556 [==============================] - 4s 471us/step - loss: 0.5351 - acc: 0.8337\n",
      "Epoch 18/20\n",
      "8556/8556 [==============================] - 4s 457us/step - loss: 0.4899 - acc: 0.8485\n",
      "Epoch 19/20\n",
      "8556/8556 [==============================] - 4s 466us/step - loss: 0.4544 - acc: 0.8603\n",
      "Epoch 20/20\n",
      "8556/8556 [==============================] - 4s 460us/step - loss: 0.4165 - acc: 0.8758\n",
      "Saved model to disk\n"
     ]
    }
   ],
   "source": [
    "import csv\n",
    "# train the model, output generated text after each iteration\n",
    "for iteration in range(1, 2):\n",
    "    print()\n",
    "    #print('-' * 50)\n",
    "    print('Iteration', iteration)\n",
    "    a1=model.fit(X_eng, y_eng,\n",
    "              batch_size=128,\n",
    "              epochs=20)\n",
    "    model_eng_json = model.to_json()\n",
    "    with open(\"/Users/anusha/Desktop/Language_Detection/model/model_eng_\"+str(iteration)+\".json\", \"w\") as json_file:\n",
    "        json_file.write(model_eng_json)\n",
    "    # serialize weights to HDF5\n",
    "    model.save_weights(\"/Users/anusha/Desktop/Language_Detection/weights/model_eng_\"+ str(iteration) +\".h5\")\n",
    "    print(\"Saved model to disk\")\n",
    "\n",
    "    sentences_fr_test =sentences_fr_test[:100]\n",
    "    string_fr_test=string_fr_test[:100]\n",
    "    sentences_eng_test =sentences_eng_test[:100]\n",
    "    string_eng_test=string_eng_test[:100]\n",
    "    \n",
    "    #sentence=\n",
    "    prob_english=[]\n",
    "    for i in range(len(sentences_eng_test)):\n",
    "        prob_english.append(get_scores_for_model(sentences_eng_test[i], string_eng_test[i], model,chars, char_indices))\n",
    "    for i in range(len(sentences_fr_test)):\n",
    "        prob_english.append(get_scores_for_model(sentences_fr_test[i], string_fr_test[i], model, chars, char_indices))\n",
    "    #sentence = text1[start_index: start_index + maxlen]\n",
    "    #print (prob_english)\n",
    "\n",
    "    with open(\"/Users/anusha/Desktop/Language_Detection/prob_eng/output_prob_\" + str(iteration) + \".csv\", 'wt') as f:\n",
    "        w = csv.writer(f, dialect='excel')\n",
    "        for row in prob_english:\n",
    "            w.writerow(row)\n",
    "    with open(\"/Users/anusha/Desktop/Language_Detection/model/loss_eng\" + \".csv\", 'a') as f:\n",
    "        w = csv.writer(f, dialect='excel')\n",
    "        w.writerow(a1.history['loss'])"
   ]
  },
  {
   "cell_type": "code",
   "execution_count": 255,
   "metadata": {},
   "outputs": [
    {
     "name": "stdout",
     "output_type": "stream",
     "text": [
      "200\n"
     ]
    }
   ],
   "source": [
    "print (len(prob_english))"
   ]
  },
  {
   "cell_type": "code",
   "execution_count": 261,
   "metadata": {},
   "outputs": [
    {
     "name": "stdout",
     "output_type": "stream",
     "text": [
      "\n",
      "Iteration 1\n",
      "Epoch 1/20\n",
      "9567/9567 [==============================] - 6s 645us/step - loss: 2.6520 - acc: 0.2356\n",
      "Epoch 2/20\n",
      "9567/9567 [==============================] - 5s 488us/step - loss: 2.0689 - acc: 0.3848\n",
      "Epoch 3/20\n",
      "9567/9567 [==============================] - 5s 486us/step - loss: 1.8081 - acc: 0.4540\n",
      "Epoch 4/20\n",
      "9567/9567 [==============================] - 4s 465us/step - loss: 1.6149 - acc: 0.5010\n",
      "Epoch 5/20\n",
      "9567/9567 [==============================] - 5s 471us/step - loss: 1.4690 - acc: 0.5519\n",
      "Epoch 6/20\n",
      "9567/9567 [==============================] - 4s 469us/step - loss: 1.3306 - acc: 0.5920\n",
      "Epoch 7/20\n",
      "9567/9567 [==============================] - 4s 467us/step - loss: 1.2063 - acc: 0.6268\n",
      "Epoch 8/20\n",
      "9567/9567 [==============================] - 4s 468us/step - loss: 1.0837 - acc: 0.6583\n",
      "Epoch 9/20\n",
      "9567/9567 [==============================] - 4s 468us/step - loss: 0.9893 - acc: 0.6887\n",
      "Epoch 10/20\n",
      "9567/9567 [==============================] - 5s 472us/step - loss: 0.8914 - acc: 0.7132\n",
      "Epoch 11/20\n",
      "9567/9567 [==============================] - 5s 492us/step - loss: 0.8135 - acc: 0.7367\n",
      "Epoch 12/20\n",
      "9567/9567 [==============================] - 5s 480us/step - loss: 0.7524 - acc: 0.7570\n",
      "Epoch 13/20\n",
      "9567/9567 [==============================] - 5s 475us/step - loss: 0.6860 - acc: 0.7714\n",
      "Epoch 14/20\n",
      "9567/9567 [==============================] - 5s 475us/step - loss: 0.6443 - acc: 0.7940\n",
      "Epoch 15/20\n",
      "9567/9567 [==============================] - 5s 475us/step - loss: 0.5921 - acc: 0.8087\n",
      "Epoch 16/20\n",
      "9567/9567 [==============================] - 5s 474us/step - loss: 0.5553 - acc: 0.8214\n",
      "Epoch 17/20\n",
      "9567/9567 [==============================] - 5s 479us/step - loss: 0.5232 - acc: 0.8281\n",
      "Epoch 18/20\n",
      "9567/9567 [==============================] - 5s 487us/step - loss: 0.4854 - acc: 0.8414\n",
      "Epoch 19/20\n",
      "9567/9567 [==============================] - 5s 483us/step - loss: 0.4670 - acc: 0.8469\n",
      "Epoch 20/20\n",
      "9567/9567 [==============================] - 5s 521us/step - loss: 0.4334 - acc: 0.8632\n",
      "Saved model to disk\n"
     ]
    }
   ],
   "source": [
    "import csv\n",
    "# train the model, output generated text after each iteration\n",
    "\n",
    "\n",
    "for iteration in range(1, 2):\n",
    "    print()\n",
    "    #print('-' * 50)\n",
    "    print('Iteration', iteration)\n",
    "    a2=model2.fit(X_fr, y_fr,\n",
    "              batch_size=128,\n",
    "              epochs=20)\n",
    "    model_fr_json = model2.to_json()\n",
    "    with open(\"/Users/anusha/Desktop/Language_Detection/model/model_fr_\"+str(iteration)+\".json\", \"w\") as json_file:\n",
    "        json_file.write(model_fr_json)\n",
    "    # serialize weights to HDF5\n",
    "    model2.save_weights(\"/Users/anusha/Desktop/Language_Detection/weights/model_fr_\"+ str(iteration) +\".h5\")\n",
    "    print(\"Saved model to disk\")\n",
    "\n",
    "        \n",
    "    sentences_fr_test =sentences_fr_test[:100]\n",
    "    string_fr_test=string_fr_test[:100]\n",
    "    sentences_eng_test =sentences_eng_test[:100]\n",
    "    string_eng_test=string_eng_test[:100]\n",
    "    #sentence=\n",
    "    prob_fr=[]\n",
    "    for i in range(len(sentences_eng_test)):\n",
    "        prob_fr.append(get_scores_for_model(sentences_eng_test[i], string_eng_test[i], model2,chars, char_indices))\n",
    "    for i in range(len(sentences_fr_test)):\n",
    "        prob_fr.append(get_scores_for_model(sentences_fr_test[i], string_fr_test[i], model2, chars, char_indices))\n",
    "\n",
    "    #print (prob_fr)\n",
    "    \n",
    "    with open(\"/Users/anusha/Desktop/Language_Detection/prob_fr/output_prob_\" + str(iteration) + \".csv\", 'wt') as f:\n",
    "        w = csv.writer(f, dialect='excel')\n",
    "        for row in prob_fr:\n",
    "            w.writerow(row)\n",
    "    with open(\"/Users/anusha/Desktop/Language_Detection/model/loss_fr\" + \".csv\", 'a') as f:\n",
    "        w = csv.writer(f, dialect='excel')\n",
    "        w.writerow(a2.history['loss'])"
   ]
  },
  {
   "cell_type": "code",
   "execution_count": 262,
   "metadata": {},
   "outputs": [
    {
     "name": "stdout",
     "output_type": "stream",
     "text": [
      "200\n"
     ]
    }
   ],
   "source": [
    "print (len(prob_fr))"
   ]
  },
  {
   "cell_type": "code",
   "execution_count": 263,
   "metadata": {},
   "outputs": [
    {
     "name": "stdout",
     "output_type": "stream",
     "text": [
      "Loaded model from disk\n"
     ]
    }
   ],
   "source": [
    "from keras.models import model_from_json\n",
    "json_file = open('/Users/anusha/Desktop/Language_Detection/model/model_eng_1.json', 'r')\n",
    "loaded_model_json = json_file.read()\n",
    "json_file.close()\n",
    "model3 = model_from_json(loaded_model_json)\n",
    "# load weights into new model\n",
    "model3.load_weights(\"/Users/anusha/Desktop/Language_Detection/weights/model_eng_1.h5\")\n",
    "print(\"Loaded model from disk\")\n",
    "optimizer = RMSprop(lr=0.008)\n",
    "model3.compile(loss='categorical_crossentropy', optimizer=optimizer)"
   ]
  },
  {
   "cell_type": "code",
   "execution_count": 264,
   "metadata": {},
   "outputs": [],
   "source": [
    "from keras.models import model_from_json\n",
    "json_file = open('/Users/anusha/Desktop/Language_Detection/model/model_eng_1.json', 'r')\n",
    "loaded_model_json = json_file.read()\n",
    "json_file.close()\n",
    "model3 = model_from_json(loaded_model_json)\n",
    "model3.load_weights(\"/Users/anusha/Desktop/Language_Detection/weights/model_eng_1.h5\")"
   ]
  },
  {
   "cell_type": "code",
   "execution_count": 265,
   "metadata": {},
   "outputs": [],
   "source": [
    "for diversity in [ 1.0]:\n",
    "    sentences_fr_test =sentences_fr_test[:100]\n",
    "    string_fr_test=string_fr_test[:100]\n",
    "    sentences_eng_test =sentences_eng_test[:100]\n",
    "    string_eng_test=string_eng_test[:100]\n",
    "    \n",
    "    prob_fr=[]\n",
    "    for i in range(len(sentences_fr_test)):\n",
    "        prob_fr.append(get_scores_for_model(sentences_eng_test[i], string_eng_test[i], model3,chars, char_indices))\n",
    "    for i in range(len(sentences_fr_test)):\n",
    "        prob_fr.append(get_scores_for_model(sentences_fr_test[i], string_fr_test[i], model3, chars, char_indices))\n",
    "    #sentence = text1[start_index: start_index + maxlen]\n",
    "    #print (prob_english)\n",
    "    with open(\"/Users/anusha/Desktop/Language_Detection/prob_eng/output_prob_\" + str(1) + \".csv\", 'wt') as f:\n",
    "        w = csv.writer(f, dialect='excel')\n",
    "        w.writerows(prob_fr)\n",
    "    \n",
    "    \"\"\"prob_fr=[]\n",
    "    prob_eng=[]\n",
    "    for i in range(len(sentences_eng_test)):\n",
    "        prob_eng.append(get_scores_for_model(sentences_eng_test[i], string_eng_test[i], model3,chars, char_indices))\n",
    "    for i in range(len(sentences_fr_test)):\n",
    "        prob_fr.append(get_scores_for_model(sentences_fr_test[i], string_fr_test[i], model3, chars, char_indices))\n",
    "    #print (prob_fr)\n",
    "    with open(\"/Users/anusha/Desktop/Language_Detection/prob_eng/output_prob_\" + str(1) + \".csv\", 'wt') as f:\n",
    "        w = csv.writer(f, dialect='excel')\n",
    "        w.writerows(prob_eng)\n",
    "    with open(\"/Users/anusha/Desktop/Language_Detection/prob_fr/output_prob_\" + str(1) + \".csv\", 'wt') as f:\n",
    "        w = csv.writer(f, dialect='excel')\n",
    "        w.writerows(prob_fr)\"\"\""
   ]
  },
  {
   "cell_type": "code",
   "execution_count": 269,
   "metadata": {},
   "outputs": [],
   "source": [
    "def predict_language(prob_english, prob_fr):\n",
    "    y = [1] * len(prob_english)\n",
    "    probs_eng = []\n",
    "    probs_frn = []\n",
    "    for i in range(len(prob_english)):\n",
    "        sum_english = 0\n",
    "        sum_fr = 0\n",
    "        #print(len(prob_english), len(prob_fr))\n",
    "        for j in range(len(prob_english[0])):\n",
    "            #print(prob_english[i][j])\n",
    "            sum_english += float(prob_english[i][j])\n",
    "            sum_fr += float(prob_fr[i][j])\n",
    "        sum_english = np.exp(sum_english)\n",
    "        sum_fr = np.exp(sum_fr)\n",
    "        if sum_english < sum_fr:\n",
    "            y[i] = 0\n",
    "        if sum_fr == 0.0:\n",
    "            sum_fr = 0.0000000001\n",
    "        probs_eng.append(sum_english)\n",
    "        probs_frn.append(sum_fr)\n",
    "    return y, probs_eng, probs_frn"
   ]
  },
  {
   "cell_type": "code",
   "execution_count": 270,
   "metadata": {},
   "outputs": [
    {
     "name": "stdout",
     "output_type": "stream",
     "text": [
      "----------------- Iteration: 1 --------------------\n",
      "2.3421566234131218e-23 0.9529005973712862\n",
      "[[81 19]\n",
      " [13 87]]\n",
      "0.84\n"
     ]
    },
    {
     "data": {
      "image/png": "[encoded data removed]",
      "text/plain": [
       "<Figure size 432x288 with 1 Axes>"
      ]
     },
     "metadata": {},
     "output_type": "display_data"
    }
   ],
   "source": [
    "import csv\n",
    "from sklearn.metrics import roc_auc_score, confusion_matrix, accuracy_score, auc, roc_curve\n",
    "for iter in range(1,2):\n",
    "    print(\"----------------- Iteration: \" + str(iter) + \" --------------------\")\n",
    "    prob_english=[]\n",
    "    with open(\"/Users/anusha/Desktop/Language_Detection/prob_eng/output_prob_\" + str(iter) + \".csv\", 'rt') as f:\n",
    "            w = csv.reader(f, delimiter=',')\n",
    "            prob_english = list(w)\n",
    "\n",
    "    prob_fr=[]\n",
    "    with open(\"/Users/anusha/Desktop/Language_Detection/prob_fr/output_prob_\" + str(iter) + \".csv\", 'rt') as f:\n",
    "            w = csv.reader(f, delimiter=',')\n",
    "            prob_fr = list(w)\n",
    "    \n",
    "    #print(prob_english)\n",
    "    #print(\"\\n\\n\\n\\n\")\n",
    "    #print(prob_fr)\n",
    "    true_labels = ([1] * 100) + ([0] * 100)\n",
    "\n",
    "    pred_y, logprob_english, logprob_fr = predict_language(prob_english, prob_fr)\n",
    "    \n",
    "    print(min(logprob_fr), max(logprob_fr))\n",
    "    y_hat = np.array([a/b for (a, b) in zip(logprob_english, logprob_fr)])\n",
    "    #roc_auc_score(true_labels, y_hat)\n",
    "    #print(true_labels, pred_y)\n",
    "    print (confusion_matrix(true_labels, pred_y))\n",
    "    print (accuracy_score(true_labels, pred_y))\n",
    "    #print (y_hat)\n",
    "    try:\n",
    "        fpr, tpr, _ = roc_curve(true_labels, y_hat)\n",
    "    except:\n",
    "        continue\n",
    "    roc_auc = auc(fpr, tpr)\n",
    "\n",
    "    import matplotlib.pyplot as plt\n",
    "    plt.figure()\n",
    "    lw = 2\n",
    "    plt.plot(fpr, tpr, color='darkorange',\n",
    "             lw=lw, label='ROC curve (area = %0.2f)' % roc_auc)\n",
    "    plt.plot([0, 1], [0, 1], color='navy', lw=lw, linestyle='--')\n",
    "    plt.xlim([0.0, 1.0])\n",
    "    plt.ylim([0.0, 1.05])\n",
    "    plt.xlabel('False Positive Rate')\n",
    "    plt.ylabel('True Positive Rate')\n",
    "    plt.title('Receiver operating characteristic example')\n",
    "    plt.legend(loc=\"lower right\")\n",
    "    plt.show()"
   ]
  },
  {
   "cell_type": "code",
   "execution_count": null,
   "metadata": {},
   "outputs": [],
   "source": []
  }
 ],
 "metadata": {
  "kernelspec": {
   "display_name": "Python 3",
   "language": "python",
   "name": "python3"
  },
  "language_info": {
   "codemirror_mode": {
    "name": "ipython",
    "version": 3
   },
   "file_extension": ".py",
   "mimetype": "text/x-python",
   "name": "python",
   "nbconvert_exporter": "python",
   "pygments_lexer": "ipython3",
   "version": "3.6.5"
  }
 },
 "nbformat": 4,
 "nbformat_minor": 2
}
